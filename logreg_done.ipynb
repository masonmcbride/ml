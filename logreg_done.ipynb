{
 "cells": [
  {
   "cell_type": "code",
   "execution_count": 3,
   "metadata": {},
   "outputs": [],
   "source": [
    "import matplotlib.pyplot as plt\n",
    "import numpy as np\n",
    "import pandas as pd"
   ]
  },
  {
   "cell_type": "code",
   "execution_count": 4,
   "metadata": {},
   "outputs": [],
   "source": [
    "def sigmoid(z):\n",
    "    return 1.0 / (1+np.exp(-z))"
   ]
  },
  {
   "cell_type": "code",
   "execution_count": 5,
   "metadata": {},
   "outputs": [
    {
     "data": {
      "image/png": "[encoded data removed]",
      "text/plain": [
       "<Figure size 432x288 with 1 Axes>"
      ]
     },
     "metadata": {
      "needs_background": "light"
     },
     "output_type": "display_data"
    }
   ],
   "source": [
    "x = np.linspace(-5,5,100)\n",
    "y = sigmoid(x)\n",
    "plt.xlabel(\"x\"), plt.ylabel(\"sigmoid(x)\"), plt.title(\"sigmoid\")\n",
    "plt.plot(x,y)\n",
    "plt.show()"
   ]
  },
  {
   "cell_type": "code",
   "execution_count": 6,
   "metadata": {},
   "outputs": [
    {
     "name": "stdout",
     "output_type": "stream",
     "text": [
      "[[-0.86914432  0.38930975  0.        ]\n",
      " [-0.99346735 -0.6105909   0.        ]\n",
      " [-0.83406432  0.23923558  0.        ]\n",
      " [-0.13647145  0.6320027   1.        ]\n",
      " [ 0.40388679  0.31078429  1.        ]\n",
      " [-0.56930879 -0.24668082  0.        ]\n",
      " [-0.10998219  0.93091718  1.        ]\n",
      " [ 0.28899369 -0.53268948  1.        ]\n",
      " [ 0.31978216  0.66458158  1.        ]\n",
      " [ 0.55868566 -0.62118485  1.        ]\n",
      " [ 0.88630192 -0.77669717  0.        ]\n",
      " [ 0.28867586 -1.          0.        ]\n",
      " [ 0.49774841  0.34411227  1.        ]\n",
      " [ 0.12673957  0.96628656  1.        ]\n",
      " [-0.72826006  0.3310706   0.        ]\n",
      " [-0.31453174  0.71692904  1.        ]\n",
      " [ 0.11829901 -0.35144433  1.        ]\n",
      " [ 0.08609881 -0.52904022  0.        ]\n",
      " [ 0.16391711  0.82590798  1.        ]\n",
      " [ 0.34500817 -0.50274932  1.        ]\n",
      " [ 0.06962078 -0.64154501  0.        ]\n",
      " [ 0.70900896  0.03114329  1.        ]\n",
      " [-0.41303572 -0.4652535   0.        ]\n",
      " [-0.88094321 -0.60137606  0.        ]\n",
      " [ 0.37210637  0.12410277  1.        ]\n",
      " [-0.07660494  0.15287538  1.        ]\n",
      " [ 0.43706612 -0.5834433   1.        ]\n",
      " [ 0.80755162 -0.75983985  0.        ]\n",
      " [-0.08924114 -0.4242289   0.        ]\n",
      " [-0.74983225  0.00759766  0.        ]\n",
      " [-0.10216712  0.23647255  1.        ]\n",
      " [ 0.58654041 -0.22512953  1.        ]\n",
      " [-0.36793859 -0.04713098  0.        ]\n",
      " [-0.36973237  0.13759408  1.        ]\n",
      " [-0.70823529  0.18842124  0.        ]\n",
      " [-0.29549598 -0.36687171  0.        ]\n",
      " [-0.88944443  1.          0.        ]\n",
      " [-0.02196823  0.47378403  1.        ]\n",
      " [ 0.28224305 -0.6786065   0.        ]\n",
      " [-0.88175793  0.30765958  0.        ]\n",
      " [ 0.54348046 -0.24692473  1.        ]\n",
      " [-0.383999   -0.52383365  0.        ]\n",
      " [ 0.84564814  0.02439194  1.        ]\n",
      " [ 0.49951712 -0.70658991  0.        ]\n",
      " [-0.3983311  -0.55411479  0.        ]\n",
      " [-0.0779906  -0.37135105  0.        ]\n",
      " [ 0.3511499   0.16763355  1.        ]\n",
      " [ 0.94105527  0.64428609  1.        ]\n",
      " [-0.08227938  0.9384582   1.        ]\n",
      " [ 0.76313609  0.70195654  1.        ]\n",
      " [ 0.43003254  0.2761769   1.        ]\n",
      " [ 0.98408088 -0.10949255  1.        ]\n",
      " [ 0.73394662 -0.62536823  1.        ]\n",
      " [-0.87198644 -0.12714956  0.        ]\n",
      " [-0.42015327 -0.43745856  0.        ]\n",
      " [-0.44021428 -0.14435842  0.        ]\n",
      " [ 0.93744435  0.12085702  1.        ]\n",
      " [-0.92780815  0.90417251  0.        ]\n",
      " [ 0.26674731  0.14907008  1.        ]\n",
      " [ 0.19645168  0.40187438  1.        ]\n",
      " [ 0.29962494  0.61592986  1.        ]\n",
      " [-0.85015443 -0.51902238  0.        ]\n",
      " [-0.24909396 -0.74633969  0.        ]\n",
      " [-1.         -0.44365679  0.        ]\n",
      " [-0.58120564  0.05020749  0.        ]\n",
      " [ 0.04636883 -0.69270769  0.        ]\n",
      " [-0.70190992  0.96091035  1.        ]\n",
      " [-0.45495188 -0.37655949  0.        ]\n",
      " [ 0.43962866  0.80214579  1.        ]\n",
      " [ 0.05169567 -0.10971629  1.        ]\n",
      " [-0.92363344 -0.62781245  0.        ]\n",
      " [-0.02591464  0.38951469  1.        ]\n",
      " [ 0.2122189   0.9226017   1.        ]\n",
      " [-0.12858009  0.24488406  1.        ]\n",
      " [-0.17493101  0.3258451   1.        ]\n",
      " [ 1.          0.22362181  1.        ]\n",
      " [-0.50678846  0.69549865  1.        ]\n",
      " [-0.41523235  0.32442159  1.        ]\n",
      " [-0.12864686 -0.6512139   0.        ]\n",
      " [ 0.4954439  -0.64501847  0.        ]\n",
      " [ 0.68714025  0.14846121  1.        ]\n",
      " [ 0.85686054 -0.55787638  1.        ]\n",
      " [ 0.06810808  0.05428761  1.        ]\n",
      " [-0.22086112 -0.15299137  1.        ]\n",
      " [ 0.44212782  0.76828091  1.        ]\n",
      " [ 0.1010529   0.6110774   1.        ]\n",
      " [-0.65553108  0.41333609  0.        ]\n",
      " [ 0.30197814  0.75258912  1.        ]\n",
      " [ 0.39249745  0.93490162  1.        ]\n",
      " [-0.36105806 -0.11621698  0.        ]\n",
      " [ 0.83564266  0.36395055  1.        ]\n",
      " [ 0.73113268  0.66716622  1.        ]\n",
      " [-0.27121427 -0.85446847  0.        ]\n",
      " [ 0.27374185  0.58912889  1.        ]\n",
      " [ 0.7138544  -0.56772088  1.        ]\n",
      " [ 0.53163477 -0.47918502  1.        ]\n",
      " [-0.65019214  0.65530264  1.        ]\n",
      " [ 0.98529866  0.11833269  1.        ]\n",
      " [-0.27528896  0.00573017  1.        ]\n",
      " [ 0.28186008  0.72637626  1.        ]]\n"
     ]
    }
   ],
   "source": [
    "data = pd.read_csv(\"log_data.csv\", usecols=[\"grade1\", \"grade2\", \"label\"]).values\n",
    "np.set_printoptions(threshold=1000)\n",
    "print(data)"
   ]
  },
  {
   "cell_type": "code",
   "execution_count": 7,
   "metadata": {},
   "outputs": [],
   "source": [
    "features = data[:,:2]\n",
    "labels = data[:,2].reshape(100,1)"
   ]
  },
  {
   "cell_type": "code",
   "execution_count": 8,
   "metadata": {},
   "outputs": [],
   "source": [
    "#don't run again \n",
    "bias = np.ones(shape=(len(x),1))\n",
    "features = np.append(bias, features, axis=1)"
   ]
  },
  {
   "cell_type": "code",
   "execution_count": 9,
   "metadata": {},
   "outputs": [
    {
     "data": {
      "text/plain": [
       "(3, 1)"
      ]
     },
     "execution_count": 9,
     "metadata": {},
     "output_type": "execute_result"
    }
   ],
   "source": [
    "W1 = 0.0\n",
    "W2 = 0.0\n",
    "W3 = 0.0\n",
    "weights = np.array([\n",
    "    [W1],\n",
    "    [W2],\n",
    "    [W3]\n",
    "])\n",
    "weights.shape"
   ]
  },
  {
   "cell_type": "code",
   "execution_count": 10,
   "metadata": {},
   "outputs": [],
   "source": [
    "#for printing data\n",
    "#print(\"features\\n{}\\nlabels\\n{}\".format(features, labels))"
   ]
  },
  {
   "cell_type": "code",
   "execution_count": 11,
   "metadata": {},
   "outputs": [
    {
     "data": {
      "image/png": "[encoded data removed]",
      "text/plain": [
       "<Figure size 432x288 with 1 Axes>"
      ]
     },
     "metadata": {
      "needs_background": "light"
     },
     "output_type": "display_data"
    }
   ],
   "source": [
    "for v in data:\n",
    "    if v[2] == 1:\n",
    "        plt.plot(v[0],v[1],\"bo\")\n",
    "    else:\n",
    "        plt.plot(v[0],v[1],\"ro\")\n",
    "plt.xlabel(\"grade 1\"), plt.ylabel(\"grade 2\"), plt.title(\"grade scatter plot\")\n",
    "plt.show()"
   ]
  },
  {
   "cell_type": "code",
   "execution_count": 12,
   "metadata": {},
   "outputs": [],
   "source": [
    "def predict(features, weights):\n",
    "    predictions = np.dot(features, weights)\n",
    "    \n",
    "    return sigmoid(predictions)"
   ]
  },
  {
   "cell_type": "code",
   "execution_count": 13,
   "metadata": {},
   "outputs": [],
   "source": [
    "test = predict(features, weights)"
   ]
  },
  {
   "cell_type": "code",
   "execution_count": 14,
   "metadata": {},
   "outputs": [
    {
     "data": {
      "text/plain": [
       "0.6931471805599453"
      ]
     },
     "execution_count": 14,
     "metadata": {},
     "output_type": "execute_result"
    }
   ],
   "source": [
    "def cost_function(features, labels, weights):\n",
    "    grades = len(labels)\n",
    "    \n",
    "    predictions = predict(features, weights)\n",
    "    #cost when label = 1\n",
    "    class1_cost = -labels*np.log(predictions)\n",
    "    \n",
    "    #cost when label = 0 \n",
    "    class2_cost = (labels-1)*np.log(1-predictions)\n",
    "    \n",
    "    cost = class1_cost + class2_cost\n",
    "    cost = cost.sum() / grades\n",
    "    return cost\n",
    "cost_function(features, labels, weights)"
   ]
  },
  {
   "cell_type": "code",
   "execution_count": 15,
   "metadata": {},
   "outputs": [],
   "source": [
    "def update_weights(features, labels, weights, lr):\n",
    "    \n",
    "    grades = len(labels)\n",
    "    predictions = predict(features, weights)\n",
    "    \n",
    "    gradient = np.dot(features.T, (predictions - labels))\n",
    "    \n",
    "    gradient /= grades\n",
    "    gradient *= lr\n",
    "    \n",
    "    weights -= gradient\n",
    "    return weights"
   ]
  },
  {
   "cell_type": "code",
   "execution_count": 16,
   "metadata": {},
   "outputs": [],
   "source": [
    "def train(features, labels, weights, lr, iters):\n",
    "    cost_history = []\n",
    "    \n",
    "    for i in range(iters+1):\n",
    "        update_weights(features, labels, weights, lr)\n",
    "        \n",
    "        if i % 1000 == 0:\n",
    "            cost = cost_function(features, labels, weights)\n",
    "            cost_history.append(cost)\n",
    "            \n",
    "            print(\"iter={} cost={:.4f}\".format(i, cost))\n",
    "            \n",
    "    return cost_history, weights\n",
    "            "
   ]
  },
  {
   "cell_type": "code",
   "execution_count": 17,
   "metadata": {},
   "outputs": [
    {
     "name": "stdout",
     "output_type": "stream",
     "text": [
      "iter=0 cost=0.6926\n",
      "iter=1000 cost=0.4362\n",
      "iter=2000 cost=0.3553\n",
      "iter=3000 cost=0.3157\n",
      "iter=4000 cost=0.2920\n",
      "iter=5000 cost=0.2761\n",
      "iter=6000 cost=0.2647\n",
      "iter=7000 cost=0.2560\n",
      "iter=8000 cost=0.2492\n"
     ]
    }
   ],
   "source": [
    "cost_history, weights = train(features, labels, weights, 0.01, 8000)"
   ]
  },
  {
   "cell_type": "code",
   "execution_count": 18,
   "metadata": {},
   "outputs": [],
   "source": [
    "weights = np.array([[1.00880654],\n",
    "       [5.7055786 ],\n",
    "       [5.4021052 ]])"
   ]
  },
  {
   "cell_type": "code",
   "execution_count": 19,
   "metadata": {},
   "outputs": [],
   "source": [
    "def decision_boundary(prob):\n",
    "    return 1 if prob >= .5 else 0"
   ]
  },
  {
   "cell_type": "code",
   "execution_count": 20,
   "metadata": {},
   "outputs": [],
   "source": [
    "def classify(predictions):\n",
    "    db = np.vectorize(decision_boundary)\n",
    "    return db(predictions).flatten().reshape(100,1)"
   ]
  },
  {
   "cell_type": "code",
   "execution_count": 21,
   "metadata": {},
   "outputs": [],
   "source": [
    "predictions = predict(features, weights)\n",
    "classifications = classify(predictions)"
   ]
  },
  {
   "cell_type": "code",
   "execution_count": 22,
   "metadata": {},
   "outputs": [],
   "source": [
    "def accuracy(predicted, actual):\n",
    "    diff = predicted - actual\n",
    "    return 1.0 - (float(np.count_nonzero(diff)) / len(diff))"
   ]
  },
  {
   "cell_type": "code",
   "execution_count": 23,
   "metadata": {},
   "outputs": [
    {
     "data": {
      "text/plain": [
       "0.89"
      ]
     },
     "execution_count": 23,
     "metadata": {},
     "output_type": "execute_result"
    }
   ],
   "source": [
    "accuracy(classifications, labels)"
   ]
  },
  {
   "cell_type": "code",
   "execution_count": 24,
   "metadata": {},
   "outputs": [
    {
     "data": {
      "text/plain": [
       "'final weights\\narray([[1.00880654],\\n       [5.7055786 ],\\n       [5.4021052 ]])\\n'"
      ]
     },
     "execution_count": 24,
     "metadata": {},
     "output_type": "execute_result"
    }
   ],
   "source": [
    "\"\"\"final weights\n",
    "array([[1.00880654],\n",
    "       [5.7055786 ],\n",
    "       [5.4021052 ]])\n",
    "\"\"\""
   ]
  },
  {
   "cell_type": "code",
   "execution_count": 25,
   "metadata": {},
   "outputs": [],
   "source": [
    "sample = np.array([[ 1.        ,  0.28186008,  0.72637626]])"
   ]
  },
  {
   "cell_type": "code",
   "execution_count": 26,
   "metadata": {},
   "outputs": [
    {
     "data": {
      "text/plain": [
       "array([[0.99855895]])"
      ]
     },
     "execution_count": 26,
     "metadata": {},
     "output_type": "execute_result"
    }
   ],
   "source": [
    "predict(sample, weights)\n",
    "#output is a probability"
   ]
  },
  {
   "cell_type": "code",
   "execution_count": null,
   "metadata": {},
   "outputs": [],
   "source": []
  }
 ],
 "metadata": {
  "kernelspec": {
   "display_name": "Python 3",
   "language": "python",
   "name": "python3"
  },
  "language_info": {
   "codemirror_mode": {
    "name": "ipython",
    "version": 3
   },
   "file_extension": ".py",
   "mimetype": "text/x-python",
   "name": "python",
   "nbconvert_exporter": "python",
   "pygments_lexer": "ipython3",
   "version": "3.8.2"
  }
 },
 "nbformat": 4,
 "nbformat_minor": 4
}
