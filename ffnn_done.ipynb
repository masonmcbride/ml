{
 "cells": [
  {
   "cell_type": "code",
   "execution_count": 1,
   "metadata": {
    "scrolled": false
   },
   "outputs": [
    {
     "name": "stdout",
     "output_type": "stream",
     "text": [
      "Populating the interactive namespace from numpy and matplotlib\n"
     ]
    }
   ],
   "source": [
    "%pylab inline "
   ]
  },
  {
   "cell_type": "code",
   "execution_count": 2,
   "metadata": {},
   "outputs": [],
   "source": [
    "def relu(z):\n",
    "    return np.maximum(0,z)"
   ]
  },
  {
   "cell_type": "code",
   "execution_count": 3,
   "metadata": {},
   "outputs": [],
   "source": [
    "def relu_prime(z):\n",
    "    z[z < 0] = 0\n",
    "    z[z > 0] = 1\n",
    "    \n",
    "    return z"
   ]
  },
  {
   "cell_type": "code",
   "execution_count": 4,
   "metadata": {},
   "outputs": [],
   "source": [
    "def cost_function(yHat, y):\n",
    "    return ((yHat-y)**2 / 2.0).sum()"
   ]
  },
  {
   "cell_type": "code",
   "execution_count": 5,
   "metadata": {},
   "outputs": [],
   "source": [
    "def cost_prime(yHat, y):\n",
    "    return yHat - y"
   ]
  },
  {
   "cell_type": "code",
   "execution_count": 6,
   "metadata": {
    "scrolled": true
   },
   "outputs": [
    {
     "data": {
      "image/png": "[encoded data removed]",
      "text/plain": [
       "<Figure size 432x288 with 1 Axes>"
      ]
     },
     "metadata": {},
     "output_type": "display_data"
    }
   ],
   "source": [
    "x = np.linspace(-5,5,100)\n",
    "y = relu(x)\n",
    "plt.plot(x,y)\n",
    "plt.xlabel(\"z\"), plt.ylabel(\"relu(z)\"), plt.title(\"ReLU\")\n",
    "plt.show()"
   ]
  },
  {
   "cell_type": "code",
   "execution_count": 7,
   "metadata": {},
   "outputs": [],
   "source": [
    "data = np.array([[0.  , 0.  , 0.  , 0.  , 1.],\n",
    "       [1.  , 1.  , 1.  , 1.  , 0.],\n",
    "       [0.03, 0.7 , 0.5 , 1.  , 0.],\n",
    "       [0.16, 0.09, 0.2 , 0.  , 1.],\n",
    "       [0.5 , 0.5 , 1.  , 0.  , 1.],\n",
    "       [0.07, 0.34, 0.  , 0.  , 1.],\n",
    "       [1.  , 0.5 , 0.5 , 1.  , 0.]])"
   ]
  },
  {
   "cell_type": "code",
   "execution_count": 8,
   "metadata": {},
   "outputs": [
    {
     "name": "stdout",
     "output_type": "stream",
     "text": [
      "data(r,g,b)=\n",
      "[[0.   0.   0.  ]\n",
      " [1.   1.   1.  ]\n",
      " [0.03 0.7  0.5 ]\n",
      " [0.16 0.09 0.2 ]\n",
      " [0.5  0.5  1.  ]\n",
      " [0.07 0.34 0.  ]\n",
      " [1.   0.5  0.5 ]]\n",
      "labels(black, white)=\n",
      "[[0. 1.]\n",
      " [1. 0.]\n",
      " [1. 0.]\n",
      " [0. 1.]\n",
      " [0. 1.]\n",
      " [0. 1.]\n",
      " [1. 0.]]\n"
     ]
    }
   ],
   "source": [
    "x = data[:,0:3]\n",
    "y = data[:,3:6]\n",
    "print(\"data(r,g,b)=\\n{}\\nlabels(black, white)=\\n{}\".format(x, y))"
   ]
  },
  {
   "cell_type": "code",
   "execution_count": 84,
   "metadata": {},
   "outputs": [],
   "source": [
    "INPUT_LAYER_SIZE = 3\n",
    "HIDDEN_LAYER_SIZE = 3\n",
    "OUTPUT_LAYER_SIZE = 2\n",
    "lr = 0.1\n",
    "iters = 10000"
   ]
  },
  {
   "cell_type": "code",
   "execution_count": 10,
   "metadata": {},
   "outputs": [],
   "source": [
    "def init_weights():\n",
    "    \"\"\"\n",
    "    initializ matrix with mean = 0 and variance = 1 and Xavier Initialization \n",
    "    \"\"\"\n",
    "\n",
    "    Wh = np.random.randn(INPUT_LAYER_SIZE, HIDDEN_LAYER_SIZE) * \\\n",
    "    np.sqrt(2.0/INPUT_LAYER_SIZE)\n",
    "    Wo = np.random.randn(HIDDEN_LAYER_SIZE, OUTPUT_LAYER_SIZE) * \\\n",
    "    np.sqrt(2.0/HIDDEN_LAYER_SIZE)\n",
    "    \n",
    "    return Wh, Wo"
   ]
  },
  {
   "cell_type": "code",
   "execution_count": 11,
   "metadata": {},
   "outputs": [],
   "source": [
    "def init_bias():\n",
    "    '''\n",
    "    initialize vectors of biases to all 0.1\n",
    "    '''\n",
    "    Bh = np.full((1, HIDDEN_LAYER_SIZE), 0.1)\n",
    "    Bo = np.full((1, OUTPUT_LAYER_SIZE), 0.1)\n",
    "    \n",
    "    return Bh, Bo"
   ]
  },
  {
   "cell_type": "code",
   "execution_count": 12,
   "metadata": {},
   "outputs": [],
   "source": [
    "def feed_forward(x, Wh, Wo):\n",
    "\n",
    "    #returns non-relu'd layers but returns relu output layer\n",
    "      \n",
    "    #hidden layer\n",
    "    Zh = np.dot(x, Wh) + Bh \n",
    "    H = relu(Zh)\n",
    "    \n",
    "    #output layer\n",
    "    Zo = np.dot(H, Wo) + Bo \n",
    "    yHat = relu(Zo)\n",
    "    \n",
    "    return Zh, Zo, yHat"
   ]
  },
  {
   "cell_type": "code",
   "execution_count": 13,
   "metadata": {},
   "outputs": [],
   "source": [
    "def backprop(x, y, Wh, Wo, lr):\n",
    "    \"\"\"\n",
    "    x: 100x3\n",
    "    y: 100x2\n",
    "    Wh: 3x3\n",
    "    Wo: 3x2\n",
    "    Zh: 100x3 => x*Wh\n",
    "    H: 100x3\n",
    "    Zo: 100x2 => H*Wo\n",
    "    \n",
    "    dWh: 3x3\n",
    "    dWo: 3x2\n",
    "    \n",
    "    100\n",
    "    \n",
    "    \n",
    "    Eo = 100x2\n",
    "    Wo = 3x2\n",
    "    Zh = 100x3\n",
    "    \"\"\"\n",
    "    sets = len(y)\n",
    "    \n",
    "    Zh, Zo, yHat = feed_forward(x, Wh, Wo)\n",
    "    H = relu_prime(Zh)\n",
    "\n",
    "    #100x2 =>    100x2       *    100x2\n",
    "    Eo = cost_prime(yHat, y) * relu_prime(Zo)\n",
    "    \n",
    "    #100x3 =>  100x3      100x2 2x3 => 100x3\n",
    "    Eh = relu_prime(Zh) * np.dot(Eo, Wo.T)  \n",
    "    \n",
    "    #3x2 =>     3x100 100x2 \n",
    "    dWo = np.dot(H.T, Eo)\n",
    "    #3x3 =>     3x100 100x3  \n",
    "    dWh = np.dot(x.T, Eh)\n",
    "    \n",
    "    #divide by total to get average and then multiply by learning rate\n",
    "    dWo /= sets\n",
    "    dWh /= sets\n",
    "    dWo *= lr\n",
    "    dWh *= lr\n",
    "    \n",
    "    Wo -= dWo\n",
    "    Wh -= dWh\n",
    "    \n",
    "    return Wo, Wh"
   ]
  },
  {
   "cell_type": "code",
   "execution_count": 78,
   "metadata": {},
   "outputs": [],
   "source": [
    "def train(x, y, Wh, Wo, lr, iters):\n",
    "    cost_history = []\n",
    "    cost = 0\n",
    "    \n",
    "    for i in range(iters):\n",
    "        Zh, Zo, yHat = feed_forward(x, Wh, Wo)\n",
    "        backprop(x, y, Wh, Wo, lr)\n",
    "        if i % 500 == 0:\n",
    "            cost=cost_function(yHat, y)\n",
    "            cost_history.append(cost)\n",
    "            \n",
    "            print(\"iter={} cost={:.4f}\".format(i, cost))\n",
    "    \n",
    "    return cost_history, Wh, Wo"
   ]
  },
  {
   "cell_type": "code",
   "execution_count": 91,
   "metadata": {
    "scrolled": true
   },
   "outputs": [],
   "source": [
    "Wh, Wo = init_weights()\n",
    "Bh, Bo = init_bias()"
   ]
  },
  {
   "cell_type": "code",
   "execution_count": 99,
   "metadata": {
    "scrolled": false
   },
   "outputs": [
    {
     "name": "stdout",
     "output_type": "stream",
     "text": [
      "iter=0 cost=0.0000\n",
      "iter=500 cost=0.0000\n",
      "iter=1000 cost=0.0000\n",
      "iter=1500 cost=0.0000\n",
      "iter=2000 cost=0.0000\n",
      "iter=2500 cost=0.0000\n",
      "iter=3000 cost=0.0000\n",
      "iter=3500 cost=0.0000\n",
      "iter=4000 cost=0.0000\n",
      "iter=4500 cost=0.0000\n",
      "iter=5000 cost=0.0000\n",
      "iter=5500 cost=0.0000\n",
      "iter=6000 cost=0.0000\n",
      "iter=6500 cost=0.0000\n",
      "iter=7000 cost=0.0000\n",
      "iter=7500 cost=0.0000\n",
      "iter=8000 cost=0.0000\n",
      "iter=8500 cost=0.0000\n",
      "iter=9000 cost=0.0000\n",
      "iter=9500 cost=0.0000\n"
     ]
    }
   ],
   "source": [
    "cost_history, Wh, Wo = train(x, y, Wh, Wo, lr, iters)"
   ]
  },
  {
   "cell_type": "code",
   "execution_count": 98,
   "metadata": {},
   "outputs": [
    {
     "data": {
      "text/plain": [
       "[array([[ 0.18965856,  0.2409345 , -0.06274811],\n",
       "        [ 0.91988459, -1.24119426,  0.95379204],\n",
       "        [-0.91938837,  0.53156228, -1.53155747]]),\n",
       " array([[ 3.10312233, -0.39656037],\n",
       "        [-2.61947787,  6.84737144],\n",
       "        [-3.38618702,  2.5462908 ]])]"
      ]
     },
     "execution_count": 98,
     "metadata": {},
     "output_type": "execute_result"
    }
   ],
   "source": [
    "perfect_weights = [array([[ 0.18965856,  0.2409345 , -0.06274811],\n",
    "        [ 0.91988459, -1.24119426,  0.95379204],\n",
    "        [-0.91938837,  0.53156228, -1.53155747]]),\n",
    " array([[ 3.10312233, -0.39656037],\n",
    "        [-2.61947787,  6.84737144],\n",
    "        [-3.38618702,  2.5462908 ]])]\n",
    "perfect_weights"
   ]
  },
  {
   "cell_type": "code",
   "execution_count": 19,
   "metadata": {},
   "outputs": [],
   "source": [
    "def normalize(rgb):\n",
    "    return rgb/255"
   ]
  },
  {
   "cell_type": "code",
   "execution_count": 94,
   "metadata": {},
   "outputs": [],
   "source": [
    "rgb = np.array([[64, 0, 128]])"
   ]
  },
  {
   "cell_type": "code",
   "execution_count": 95,
   "metadata": {},
   "outputs": [],
   "source": [
    "def guess(rgb, Wh, Wo):\n",
    "    Zh, Zo, out = feed_forward(rgb, Wh, Wo)\n",
    "    return out"
   ]
  },
  {
   "cell_type": "code",
   "execution_count": 96,
   "metadata": {},
   "outputs": [
    {
     "data": {
      "text/plain": [
       "array([[0.        , 3.02583563]])"
      ]
     },
     "execution_count": 96,
     "metadata": {},
     "output_type": "execute_result"
    }
   ],
   "source": [
    "guess(normalize(rgb), Wh, Wo)"
   ]
  },
  {
   "cell_type": "code",
   "execution_count": 27,
   "metadata": {},
   "outputs": [
    {
     "data": {
      "text/plain": [
       "(array([[ 0.01108372,  0.09480501,  0.16035944],\n",
       "        [ 0.08966162, -1.26002979,  0.76467559],\n",
       "        [-0.33652048,  0.87058249, -0.19193856]]),\n",
       " array([[-3.08655835,  7.69884086],\n",
       "        [-1.46345603,  2.69806082],\n",
       "        [ 1.29707084, -0.30801278]]))"
      ]
     },
     "execution_count": 27,
     "metadata": {},
     "output_type": "execute_result"
    }
   ],
   "source": [
    "Wh, Wo"
   ]
  },
  {
   "cell_type": "code",
   "execution_count": 28,
   "metadata": {},
   "outputs": [
    {
     "data": {
      "text/plain": [
       "(array([[0.1, 0.1, 0.1]]), array([[0.1, 0.1]]))"
      ]
     },
     "execution_count": 28,
     "metadata": {},
     "output_type": "execute_result"
    }
   ],
   "source": [
    "Bh, Bo"
   ]
  },
  {
   "cell_type": "code",
   "execution_count": null,
   "metadata": {},
   "outputs": [],
   "source": []
  }
 ],
 "metadata": {
  "kernelspec": {
   "display_name": "Python 3",
   "language": "python",
   "name": "python3"
  },
  "language_info": {
   "codemirror_mode": {
    "name": "ipython",
    "version": 3
   },
   "file_extension": ".py",
   "mimetype": "text/x-python",
   "name": "python",
   "nbconvert_exporter": "python",
   "pygments_lexer": "ipython3",
   "version": "3.6.9"
  }
 },
 "nbformat": 4,
 "nbformat_minor": 2
}
