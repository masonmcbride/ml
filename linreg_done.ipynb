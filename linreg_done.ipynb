{
 "cells": [
  {
   "cell_type": "code",
   "execution_count": 3,
   "metadata": {},
   "outputs": [
    {
     "name": "stdout",
     "output_type": "stream",
     "text": [
      "Populating the interactive namespace from numpy and matplotlib\n"
     ]
    }
   ],
   "source": [
    "%pylab inline\n",
    "import pandas as pd"
   ]
  },
  {
   "cell_type": "code",
   "execution_count": 4,
   "metadata": {},
   "outputs": [],
   "source": [
    "data = pd.read_csv(\"lin_data.csv\", usecols=[\"Temperature (C)\", \"Humidity\"]).values\n",
    "data\n",
    "np.set_printoptions(threshold=30)"
   ]
  },
  {
   "cell_type": "code",
   "execution_count": 6,
   "metadata": {},
   "outputs": [
    {
     "data": {
      "text/plain": [
       "(200, 3)"
      ]
     },
     "execution_count": 6,
     "metadata": {},
     "output_type": "execute_result"
    }
   ],
   "source": [
    "labels = data[:200,1].reshape(200,1)\n",
    "data = data[:200,:2]\n",
    "data = np.c_[data, np.ones(200)]\n",
    "data.shape"
   ]
  },
  {
   "cell_type": "code",
   "execution_count": 5,
   "metadata": {},
   "outputs": [
    {
     "data": {
      "text/plain": [
       "(array([[0.89],\n",
       "        [0.86],\n",
       "        [0.89],\n",
       "        ...,\n",
       "        [0.87],\n",
       "        [0.89],\n",
       "        [0.86]]),\n",
       " array([[ 9.47222222,  0.89      ,  1.        ],\n",
       "        [ 9.35555556,  0.86      ,  1.        ],\n",
       "        [ 9.37777778,  0.89      ,  1.        ],\n",
       "        ...,\n",
       "        [10.58888889,  0.87      ,  1.        ],\n",
       "        [ 9.98333333,  0.89      ,  1.        ],\n",
       "        [11.02222222,  0.86      ,  1.        ]]))"
      ]
     },
     "execution_count": 5,
     "metadata": {},
     "output_type": "execute_result"
    }
   ],
   "source": [
    "labels, data"
   ]
  },
  {
   "cell_type": "code",
   "execution_count": 8,
   "metadata": {},
   "outputs": [
    {
     "data": {
      "image/png": "[encoded data removed]",
      "text/plain": [
       "<Figure size 432x288 with 1 Axes>"
      ]
     },
     "metadata": {
      "needs_background": "light"
     },
     "output_type": "display_data"
    }
   ],
   "source": [
    " def plot():\n",
    "    plt.scatter(data[:,0],data[:,1])\n",
    "    plt.xlabel(\"Temperature (C)\"), plt.ylabel(\"Humidity\"), plt.title(\"Scatter\")\n",
    "    plt.show()\n",
    "plot()"
   ]
  },
  {
   "cell_type": "code",
   "execution_count": 78,
   "metadata": {},
   "outputs": [],
   "source": [
    "weights = np.array([\n",
    "    [.5],\n",
    "    [.5],\n",
    "    [1]\n",
    "    ])\n",
    "lr = 0.0001\n",
    "iters = 500"
   ]
  },
  {
   "cell_type": "code",
   "execution_count": 42,
   "metadata": {},
   "outputs": [],
   "source": [
    "def predict(data, weights):\n",
    "    return np.dot(data,weights)"
   ]
  },
  {
   "cell_type": "code",
   "execution_count": 62,
   "metadata": {},
   "outputs": [],
   "source": [
    "def cost_function(predictions, labels):\n",
    "    \n",
    "    datapoints = len(labels)\n",
    "    cost = 0.5 * (predictions-labels)**2\n",
    "    cost = cost.sum()\n",
    "    cost /= datapoints\n",
    "    \n",
    "    return cost\n"
   ]
  },
  {
   "cell_type": "code",
   "execution_count": 96,
   "metadata": {},
   "outputs": [],
   "source": [
    "def update_weights(data, weights, labels, lr):\n",
    "    datapoints = len(labels)\n",
    "    \n",
    "    predictions = predict(data, weights)\n",
    "    error = labels - predictions\n",
    "    \n",
    "    gradient = np.dot(data.T, error)\n",
    "    gradient /= datapoints\n",
    "    gradient *= lr\n",
    "    \n",
    "    weights += gradient\n",
    "    return weights"
   ]
  },
  {
   "cell_type": "code",
   "execution_count": 99,
   "metadata": {},
   "outputs": [],
   "source": [
    "def train(data, weights, labels, lr, iters):\n",
    "    cost_history = []\n",
    "    \n",
    "    for i in range(iters):\n",
    "        predictions = predict(data, weights)\n",
    "        update_weights(data, weights, labels, lr)\n",
    "        \n",
    "        if i % 100 == 0:\n",
    "            cost = cost_function(predictions, labels)\n",
    "            cost_history.append(cost)\n",
    "            \n",
    "            print(\"iter={} cost={:.4f} weights={}\".format(i, cost, weights))\n",
    "    \n",
    "    \n",
    "    return cost_history, weights"
   ]
  },
  {
   "cell_type": "code",
   "execution_count": 104,
   "metadata": {},
   "outputs": [
    {
     "name": "stdout",
     "output_type": "stream",
     "text": [
      "iter=0 cost=0.0079 weights=[[-0.0432626 ]\n",
      " [ 0.45195638]\n",
      " [ 0.93804943]]\n",
      "iter=100 cost=0.0079 weights=[[-0.04321475]\n",
      " [ 0.45160097]\n",
      " [ 0.93767511]]\n",
      "iter=200 cost=0.0079 weights=[[-0.04316701]\n",
      " [ 0.45124646]\n",
      " [ 0.93730159]]\n",
      "iter=300 cost=0.0078 weights=[[-0.04311938]\n",
      " [ 0.45089285]\n",
      " [ 0.93692888]]\n",
      "iter=400 cost=0.0078 weights=[[-0.04307185]\n",
      " [ 0.45054012]\n",
      " [ 0.93655697]]\n"
     ]
    }
   ],
   "source": [
    "cost_history, weights = train(data, weights, labels, lr, iters)"
   ]
  },
  {
   "cell_type": "code",
   "execution_count": 105,
   "metadata": {},
   "outputs": [
    {
     "data": {
      "text/plain": [
       "<function matplotlib.pyplot.show(*args, **kw)>"
      ]
     },
     "execution_count": 105,
     "metadata": {},
     "output_type": "execute_result"
    },
    {
     "data": {
      "image/png": "[encoded data removed]",
      "text/plain": [
       "<Figure size 432x288 with 1 Axes>"
      ]
     },
     "metadata": {},
     "output_type": "display_data"
    }
   ],
   "source": [
    "plot()\n",
    "y = predict(data, weights)\n",
    "plt.plot(data[:,0], y, \"ro\")\n",
    "plt.show"
   ]
  },
  {
   "cell_type": "code",
   "execution_count": 1,
   "metadata": {},
   "outputs": [
    {
     "ename": "NameError",
     "evalue": "name 'data' is not defined",
     "output_type": "error",
     "traceback": [
      "\u001b[1;31m---------------------------------------------------------------------------\u001b[0m",
      "\u001b[1;31mNameError\u001b[0m                                 Traceback (most recent call last)",
      "\u001b[1;32m<ipython-input-1-047ed65ff157>\u001b[0m in \u001b[0;36m<module>\u001b[1;34m\u001b[0m\n\u001b[1;32m----> 1\u001b[1;33m \u001b[0mdata\u001b[0m\u001b[1;33m.\u001b[0m\u001b[0mshape\u001b[0m\u001b[1;33m\u001b[0m\u001b[1;33m\u001b[0m\u001b[0m\n\u001b[0m",
      "\u001b[1;31mNameError\u001b[0m: name 'data' is not defined"
     ]
    }
   ],
   "source": [
    "data.shape"
   ]
  },
  {
   "cell_type": "code",
   "execution_count": null,
   "metadata": {},
   "outputs": [],
   "source": []
  }
 ],
 "metadata": {
  "kernelspec": {
   "display_name": "Python 3",
   "language": "python",
   "name": "python3"
  },
  "language_info": {
   "codemirror_mode": {
    "name": "ipython",
    "version": 3
   },
   "file_extension": ".py",
   "mimetype": "text/x-python",
   "name": "python",
   "nbconvert_exporter": "python",
   "pygments_lexer": "ipython3",
   "version": "3.9.0"
  }
 },
 "nbformat": 4,
 "nbformat_minor": 2
}
